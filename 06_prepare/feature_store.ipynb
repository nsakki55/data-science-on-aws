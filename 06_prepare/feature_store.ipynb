{
 "cells": [
  {
   "cell_type": "code",
   "execution_count": 36,
   "id": "b0804c51",
   "metadata": {},
   "outputs": [],
   "source": [
    "import yaml\n",
    "import boto3\n",
    "from datetime import datetime\n",
    "from time import strftime, gmtime\n",
    "import pandas as pd\n",
    "\n",
    "\n",
    "import sagemaker\n",
    "from sagemaker.feature_store.feature_definition import FeatureDefinition, FeatureTypeEnum\n",
    "from sagemaker.feature_store.feature_group import FeatureGroup"
   ]
  },
  {
   "cell_type": "code",
   "execution_count": 3,
   "id": "61eb3094",
   "metadata": {},
   "outputs": [],
   "source": [
    "SETTING_FILE_PATH = \"../settings.yaml\""
   ]
  },
  {
   "cell_type": "code",
   "execution_count": 15,
   "id": "b20b490b",
   "metadata": {},
   "outputs": [],
   "source": [
    "with open(SETTING_FILE_PATH) as file:\n",
    "    aws_info = yaml.safe_load(file)"
   ]
  },
  {
   "cell_type": "code",
   "execution_count": 56,
   "id": "5c287bf5",
   "metadata": {},
   "outputs": [],
   "source": [
    "sess = sagemaker.Session()\n",
    "role = aws_info['aws']['sagemaker']['role']\n",
    "bucket = aws_info['aws']['sagemaker']['s3bucket']\n",
    "region = boto3.Session().region_name\n",
    "\n",
    "sm = boto3.client('sagemaker')\n",
    "featurestore_runtime = boto3.client(\"sagemaker-featurestore-runtime\")\n",
    "s3 = boto3.client('s3')"
   ]
  },
  {
   "cell_type": "code",
   "execution_count": 57,
   "id": "1e4383ae",
   "metadata": {},
   "outputs": [],
   "source": [
    "df_train = pd.read_csv('../avazu-ctr-prediction/train_partial')"
   ]
  },
  {
   "cell_type": "code",
   "execution_count": 58,
   "id": "99b8ad31",
   "metadata": {},
   "outputs": [],
   "source": [
    "feature_cols = ['id', 'event_time', 'click', 'hour', 'C1', 'banner_pos', 'site_id', 'site_domain',\n",
    "                            'site_category', 'app_id', 'app_domain', 'app_category', 'device_id',\n",
    "                            'device_ip', 'device_model', 'device_type', 'device_conn_type', 'C14',\n",
    "                            'C15', 'C16', 'C17', 'C18', 'C19', 'C20', 'C21']\n",
    "\n",
    "target = 'click'"
   ]
  },
  {
   "cell_type": "code",
   "execution_count": 59,
   "id": "bbe6e8d7",
   "metadata": {},
   "outputs": [],
   "source": [
    "current_time_sec = int(round(time.time()))\n",
    "df_train['event_time'] = pd.Series([current_time_sec]*len(df_train), dtype=\"float64\")"
   ]
  },
  {
   "cell_type": "code",
   "execution_count": 77,
   "id": "b89e78aa",
   "metadata": {},
   "outputs": [],
   "source": [
    "prefix = \"ctr-prediction-feature-store\"\n",
    "feature_group_name = \"ctr-prediction-group\" + f\"-{strftime('%d-%H-%M-%S', gmtime())}\"\n",
    "\n",
    "feature_definitions = [\n",
    "    FeatureDefinition(feature_name=feature_name, feature_type=FeatureTypeEnum.STRING)\n",
    "    for feature_name in feature_cols\n",
    "]\n",
    "\n",
    "feature_group = FeatureGroup(name=feature_group_name, feature_definitions=feature_definitions, sagemaker_session=sess)\n"
   ]
  },
  {
   "cell_type": "code",
   "execution_count": 78,
   "id": "27ce285c",
   "metadata": {},
   "outputs": [],
   "source": [
    "record_identifier_name = \"id\"\n",
    "event_time_feature_name = \"event_time\""
   ]
  },
  {
   "cell_type": "code",
   "execution_count": 79,
   "id": "ac63fdde",
   "metadata": {},
   "outputs": [
    {
     "data": {
      "text/plain": [
       "{'FeatureGroupArn': 'arn:aws:sagemaker:ap-northeast-1:547760918250:feature-group/ctr-prediction-group-10-01-14-57',\n",
       " 'ResponseMetadata': {'RequestId': 'fdce3b8a-1229-4a4e-80f0-899b91fd2a5a',\n",
       "  'HTTPStatusCode': 200,\n",
       "  'HTTPHeaders': {'x-amzn-requestid': 'fdce3b8a-1229-4a4e-80f0-899b91fd2a5a',\n",
       "   'content-type': 'application/x-amz-json-1.1',\n",
       "   'content-length': '114',\n",
       "   'date': 'Tue, 10 May 2022 01:15:00 GMT'},\n",
       "  'RetryAttempts': 0}}"
      ]
     },
     "execution_count": 79,
     "metadata": {},
     "output_type": "execute_result"
    }
   ],
   "source": [
    "feature_group.create(\n",
    "    s3_uri=f\"s3://{bucket}/{prefix}\",\n",
    "    record_identifier_name = record_identifier_name,\n",
    "    event_time_feature_name=event_time_feature_name,\n",
    "    role_arn=role,\n",
    "    enable_online_store=False)"
   ]
  },
  {
   "cell_type": "code",
   "execution_count": 80,
   "id": "cf18e1ee",
   "metadata": {},
   "outputs": [
    {
     "data": {
      "text/plain": [
       "{'FeatureGroupArn': 'arn:aws:sagemaker:ap-northeast-1:547760918250:feature-group/ctr-prediction-group-10-01-14-57',\n",
       " 'FeatureGroupName': 'ctr-prediction-group-10-01-14-57',\n",
       " 'RecordIdentifierFeatureName': 'id',\n",
       " 'EventTimeFeatureName': 'event_time',\n",
       " 'FeatureDefinitions': [{'FeatureName': 'id', 'FeatureType': 'String'},\n",
       "  {'FeatureName': 'event_time', 'FeatureType': 'String'},\n",
       "  {'FeatureName': 'click', 'FeatureType': 'String'},\n",
       "  {'FeatureName': 'hour', 'FeatureType': 'String'},\n",
       "  {'FeatureName': 'C1', 'FeatureType': 'String'},\n",
       "  {'FeatureName': 'banner_pos', 'FeatureType': 'String'},\n",
       "  {'FeatureName': 'site_id', 'FeatureType': 'String'},\n",
       "  {'FeatureName': 'site_domain', 'FeatureType': 'String'},\n",
       "  {'FeatureName': 'site_category', 'FeatureType': 'String'},\n",
       "  {'FeatureName': 'app_id', 'FeatureType': 'String'},\n",
       "  {'FeatureName': 'app_domain', 'FeatureType': 'String'},\n",
       "  {'FeatureName': 'app_category', 'FeatureType': 'String'},\n",
       "  {'FeatureName': 'device_id', 'FeatureType': 'String'},\n",
       "  {'FeatureName': 'device_ip', 'FeatureType': 'String'},\n",
       "  {'FeatureName': 'device_model', 'FeatureType': 'String'},\n",
       "  {'FeatureName': 'device_type', 'FeatureType': 'String'},\n",
       "  {'FeatureName': 'device_conn_type', 'FeatureType': 'String'},\n",
       "  {'FeatureName': 'C14', 'FeatureType': 'String'},\n",
       "  {'FeatureName': 'C15', 'FeatureType': 'String'},\n",
       "  {'FeatureName': 'C16', 'FeatureType': 'String'},\n",
       "  {'FeatureName': 'C17', 'FeatureType': 'String'},\n",
       "  {'FeatureName': 'C18', 'FeatureType': 'String'},\n",
       "  {'FeatureName': 'C19', 'FeatureType': 'String'},\n",
       "  {'FeatureName': 'C20', 'FeatureType': 'String'},\n",
       "  {'FeatureName': 'C21', 'FeatureType': 'String'}],\n",
       " 'CreationTime': datetime.datetime(2022, 5, 10, 10, 15, 0, 624000, tzinfo=tzlocal()),\n",
       " 'OfflineStoreConfig': {'S3StorageConfig': {'S3Uri': 's3://ctr-prediction/ctr-prediction-feature-store',\n",
       "   'ResolvedOutputS3Uri': 's3://ctr-prediction/ctr-prediction-feature-store/547760918250/sagemaker/ap-northeast-1/offline-store/ctr-prediction-group-10-01-14-57-1652145300/data'},\n",
       "  'DisableGlueTableCreation': False},\n",
       " 'RoleArn': 'arn:aws:iam::547760918250:role/service-role/AmazonSageMaker-ExecutionRole-20220405T223211',\n",
       " 'FeatureGroupStatus': 'Creating',\n",
       " 'ResponseMetadata': {'RequestId': 'd82e3fed-38ea-45cb-885f-1083ce503f19',\n",
       "  'HTTPStatusCode': 200,\n",
       "  'HTTPHeaders': {'x-amzn-requestid': 'd82e3fed-38ea-45cb-885f-1083ce503f19',\n",
       "   'content-type': 'application/x-amz-json-1.1',\n",
       "   'content-length': '1960',\n",
       "   'date': 'Tue, 10 May 2022 01:15:00 GMT'},\n",
       "  'RetryAttempts': 0}}"
      ]
     },
     "execution_count": 80,
     "metadata": {},
     "output_type": "execute_result"
    }
   ],
   "source": [
    "feature_group.describe()"
   ]
  },
  {
   "cell_type": "code",
   "execution_count": 81,
   "id": "4c1937c7",
   "metadata": {},
   "outputs": [
    {
     "data": {
      "text/plain": [
       "{'FeatureGroupSummaries': [{'FeatureGroupName': 'reviews-feature-group-1649690470',\n",
       "   'FeatureGroupArn': 'arn:aws:sagemaker:ap-northeast-1:547760918250:feature-group/reviews-feature-group-1649690470',\n",
       "   'CreationTime': datetime.datetime(2022, 4, 12, 0, 54, 35, 739000, tzinfo=tzlocal()),\n",
       "   'FeatureGroupStatus': 'Created',\n",
       "   'OfflineStoreStatus': {'Status': 'Active'}},\n",
       "  {'FeatureGroupName': 'reviews-feature-group-1649337996',\n",
       "   'FeatureGroupArn': 'arn:aws:sagemaker:ap-northeast-1:547760918250:feature-group/reviews-feature-group-1649337996',\n",
       "   'CreationTime': datetime.datetime(2022, 4, 7, 22, 35, 33, 513000, tzinfo=tzlocal()),\n",
       "   'FeatureGroupStatus': 'Created',\n",
       "   'OfflineStoreStatus': {'Status': 'Active'}},\n",
       "  {'FeatureGroupName': 'ctr-prediction-group-2022-05-10-10-11-49',\n",
       "   'FeatureGroupArn': 'arn:aws:sagemaker:ap-northeast-1:547760918250:feature-group/ctr-prediction-group-2022-05-10-10-11-49',\n",
       "   'CreationTime': datetime.datetime(2022, 5, 10, 10, 11, 52, 454000, tzinfo=tzlocal()),\n",
       "   'FeatureGroupStatus': 'Created'},\n",
       "  {'FeatureGroupName': 'ctr-prediction-group-10-01-14-57',\n",
       "   'FeatureGroupArn': 'arn:aws:sagemaker:ap-northeast-1:547760918250:feature-group/ctr-prediction-group-10-01-14-57',\n",
       "   'CreationTime': datetime.datetime(2022, 5, 10, 10, 15, 0, 624000, tzinfo=tzlocal()),\n",
       "   'FeatureGroupStatus': 'Creating'},\n",
       "  {'FeatureGroupName': 'ctr-prediction-group-10-00-55-56',\n",
       "   'FeatureGroupArn': 'arn:aws:sagemaker:ap-northeast-1:547760918250:feature-group/ctr-prediction-group-10-00-55-56',\n",
       "   'CreationTime': datetime.datetime(2022, 5, 10, 9, 55, 58, 793000, tzinfo=tzlocal()),\n",
       "   'FeatureGroupStatus': 'Created',\n",
       "   'OfflineStoreStatus': {'Status': 'Active'}},\n",
       "  {'FeatureGroupName': 'ctr-prediction-group',\n",
       "   'FeatureGroupArn': 'arn:aws:sagemaker:ap-northeast-1:547760918250:feature-group/ctr-prediction-group',\n",
       "   'CreationTime': datetime.datetime(2022, 4, 22, 1, 16, 21, 368000, tzinfo=tzlocal()),\n",
       "   'FeatureGroupStatus': 'Created',\n",
       "   'OfflineStoreStatus': {'Status': 'Active'}}],\n",
       " 'ResponseMetadata': {'RequestId': '72467ec0-1746-4e77-be4d-f3192ea2d56b',\n",
       "  'HTTPStatusCode': 200,\n",
       "  'HTTPHeaders': {'x-amzn-requestid': '72467ec0-1746-4e77-be4d-f3192ea2d56b',\n",
       "   'content-type': 'application/x-amz-json-1.1',\n",
       "   'content-length': '1576',\n",
       "   'date': 'Tue, 10 May 2022 01:15:09 GMT'},\n",
       "  'RetryAttempts': 0}}"
      ]
     },
     "execution_count": 81,
     "metadata": {},
     "output_type": "execute_result"
    }
   ],
   "source": [
    "sm.list_feature_groups()"
   ]
  },
  {
   "cell_type": "code",
   "execution_count": 82,
   "id": "59763687",
   "metadata": {},
   "outputs": [],
   "source": [
    "def cast_object_to_string(data_frame):\n",
    "    for label in data_frame.columns:\n",
    "        data_frame[label] = data_frame[label].astype(\"str\").astype(\"string\")\n",
    "    return data_frame"
   ]
  },
  {
   "cell_type": "code",
   "execution_count": null,
   "id": "616cb608",
   "metadata": {},
   "outputs": [],
   "source": [
    "output_date = datetime.now().strftime(\"%Y-%m-%dT%H:%M:%SZ\")\n",
    "df_train['event_time'] = output_date\n",
    "\n",
    "feature_group.ingest(data_frame=cast_object_to_string(df_train), max_workers=3, wait=True)\n"
   ]
  },
  {
   "cell_type": "code",
   "execution_count": 68,
   "id": "c16373de",
   "metadata": {},
   "outputs": [],
   "source": [
    "feature_store_query = feature_group.athena_query()"
   ]
  },
  {
   "cell_type": "code",
   "execution_count": 69,
   "id": "32e16bb2",
   "metadata": {},
   "outputs": [],
   "source": [
    "feature_store_table = feature_store_query.table_name"
   ]
  },
  {
   "cell_type": "code",
   "execution_count": 70,
   "id": "080b8a98",
   "metadata": {},
   "outputs": [
    {
     "name": "stdout",
     "output_type": "stream",
     "text": [
      "CREATE EXTERNAL TABLE IF NOT EXISTS sagemaker_featurestore.ctr-prediction-group-2022-05-10-10-11-49 (\n",
      "  id STRING\n",
      "  event_time STRING\n",
      "  click STRING\n",
      "  hour STRING\n",
      "  C1 STRING\n",
      "  banner_pos STRING\n",
      "  site_id STRING\n",
      "  site_domain STRING\n",
      "  site_category STRING\n",
      "  app_id STRING\n",
      "  app_domain STRING\n",
      "  app_category STRING\n",
      "  device_id STRING\n",
      "  device_ip STRING\n",
      "  device_model STRING\n",
      "  device_type STRING\n",
      "  device_conn_type STRING\n",
      "  C14 STRING\n",
      "  C15 STRING\n",
      "  C16 STRING\n",
      "  C17 STRING\n",
      "  C18 STRING\n",
      "  C19 STRING\n",
      "  C20 STRING\n",
      "  C21 STRING\n",
      "  write_time TIMESTAMP\n",
      "  event_time TIMESTAMP\n",
      "  is_deleted BOOLEAN\n",
      ")\n",
      "ROW FORMAT SERDE 'org.apache.hadoop.hive.ql.io.parquet.serde.ParquetHiveSerDe'\n",
      "  STORED AS\n",
      "  INPUTFORMAT 'parquet.hive.DeprecatedParquetInputFormat'\n",
      "  OUTPUTFORMAT 'parquet.hive.DeprecatedParquetOutputFormat'\n",
      "LOCATION 's3://ctr-prediction/ctr-prediction-feature-store/547760918250/sagemaker/ap-northeast-1/offline-store/ctr-prediction-group-2022-05-10-10-11-49'\n"
     ]
    }
   ],
   "source": [
    "print(feature_group.as_hive_ddl())"
   ]
  },
  {
   "cell_type": "code",
   "execution_count": 86,
   "id": "202c3933",
   "metadata": {},
   "outputs": [],
   "source": [
    "query_string = \"\"\"\n",
    "SELECT id, hour, click \n",
    "FROM \"{}\" LIMIT 5\n",
    "\"\"\".format(\n",
    "    feature_store_table\n",
    ")\n"
   ]
  },
  {
   "cell_type": "code",
   "execution_count": 87,
   "id": "e803b9ac",
   "metadata": {},
   "outputs": [],
   "source": [
    "feature_store_query.run(query_string=query_string, output_location=\"s3://\" + bucket + \"/\" + prefix + \"/query_results/\")\n",
    "\n",
    "feature_store_query.wait()"
   ]
  },
  {
   "cell_type": "code",
   "execution_count": 88,
   "id": "b1485a6a",
   "metadata": {},
   "outputs": [
    {
     "data": {
      "text/html": [
       "<div>\n",
       "<style scoped>\n",
       "    .dataframe tbody tr th:only-of-type {\n",
       "        vertical-align: middle;\n",
       "    }\n",
       "\n",
       "    .dataframe tbody tr th {\n",
       "        vertical-align: top;\n",
       "    }\n",
       "\n",
       "    .dataframe thead th {\n",
       "        text-align: right;\n",
       "    }\n",
       "</style>\n",
       "<table border=\"1\" class=\"dataframe\">\n",
       "  <thead>\n",
       "    <tr style=\"text-align: right;\">\n",
       "      <th></th>\n",
       "      <th>id</th>\n",
       "      <th>hour</th>\n",
       "      <th>click</th>\n",
       "    </tr>\n",
       "  </thead>\n",
       "  <tbody>\n",
       "  </tbody>\n",
       "</table>\n",
       "</div>"
      ],
      "text/plain": [
       "Empty DataFrame\n",
       "Columns: [id, hour, click]\n",
       "Index: []"
      ]
     },
     "execution_count": 88,
     "metadata": {},
     "output_type": "execute_result"
    }
   ],
   "source": [
    "dataset = pd.DataFrame()\n",
    "\n",
    "dataset = feature_store_query.as_dataframe()\n",
    "\n",
    "dataset"
   ]
  },
  {
   "cell_type": "code",
   "execution_count": null,
   "id": "5f27a72a",
   "metadata": {},
   "outputs": [],
   "source": []
  },
  {
   "cell_type": "code",
   "execution_count": null,
   "id": "d11db50a",
   "metadata": {},
   "outputs": [],
   "source": []
  }
 ],
 "metadata": {
  "kernelspec": {
   "display_name": "Python 3 (ipykernel)",
   "language": "python",
   "name": "python3"
  },
  "language_info": {
   "codemirror_mode": {
    "name": "ipython",
    "version": 3
   },
   "file_extension": ".py",
   "mimetype": "text/x-python",
   "name": "python",
   "nbconvert_exporter": "python",
   "pygments_lexer": "ipython3",
   "version": "3.7.10"
  }
 },
 "nbformat": 4,
 "nbformat_minor": 5
}
